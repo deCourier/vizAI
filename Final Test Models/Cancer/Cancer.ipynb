{
 "metadata": {
  "language_info": {
   "codemirror_mode": {
    "name": "ipython",
    "version": 3
   },
   "file_extension": ".py",
   "mimetype": "text/x-python",
   "name": "python",
   "nbconvert_exporter": "python",
   "pygments_lexer": "ipython3",
   "version": "3.8.7-final"
  },
  "orig_nbformat": 2,
  "kernelspec": {
   "name": "python3",
   "display_name": "Python 3.8.7 64-bit",
   "metadata": {
    "interpreter": {
     "hash": "2db524e06e9f5f4ffedc911c917cb75e12dbc923643829bf417064a77eb14d37"
    }
   }
  }
 },
 "nbformat": 4,
 "nbformat_minor": 2,
 "cells": [
  {
   "cell_type": "code",
   "execution_count": 1,
   "metadata": {},
   "outputs": [],
   "source": [
    "#For reference: Used https://www.kaggle.com/niyamatalmass/ml-explainability-deep-dive-into-the-ml-model#Is-Accuracy-Score-telling-the-truth and https://www.kaggle.com/randyrose2017/for-beginners-using-keras-to-build-models to learn to make this model"
   ]
  },
  {
   "source": [
    "import pandas as pd\n",
    "import numpy as np\n",
    "import sklearn\n",
    "from sklearn import linear_model\n",
    "from sklearn.utils import shuffle"
   ],
   "cell_type": "code",
   "metadata": {},
   "execution_count": 2,
   "outputs": []
  },
  {
   "cell_type": "code",
   "execution_count": 3,
   "metadata": {},
   "outputs": [],
   "source": [
    "df = pd.read_csv(\"risk_factors_cervical_cancer.csv\", sep=\",\")"
   ]
  },
  {
   "cell_type": "code",
   "execution_count": 4,
   "metadata": {},
   "outputs": [],
   "source": [
    "df1 = df.replace(\"?\", np.nan)\n",
    "df = df1.apply(pd.to_numeric)"
   ]
  },
  {
   "cell_type": "code",
   "execution_count": 5,
   "metadata": {},
   "outputs": [],
   "source": [
    "df['Number of sexual partners'] = df['Number of sexual partners'].fillna(df['Number of sexual partners'].median())\n",
    "df['First sexual intercourse'] = df['First sexual intercourse'].fillna(df['First sexual intercourse'].median())\n",
    "df['Num of pregnancies'] = df['Num of pregnancies'].fillna(df['Num of pregnancies'].median())\n",
    "df['Smokes'] = df['Smokes'].fillna(1)\n",
    "df['Smokes (years)'] = df['Smokes (years)'].fillna(df['Smokes (years)'].median())\n",
    "df['Smokes (packs/year)'] = df['Smokes (packs/year)'].fillna(df['Smokes (packs/year)'].median())\n",
    "df['Hormonal Contraceptives'] = df['Hormonal Contraceptives'].fillna(1)\n",
    "df['Hormonal Contraceptives (years)'] = df['Hormonal Contraceptives (years)'].fillna(df['Hormonal Contraceptives (years)'].median())\n",
    "df['IUD'] = df['IUD'].fillna(0)\n",
    "df['IUD (years)'] = df['IUD (years)'].fillna(0)\n",
    "df['STDs'] = df['STDs'].fillna(1)\n",
    "df['STDs (number)'] = df['STDs (number)'].fillna(df['STDs (number)'].median())\n",
    "df['STDs:condylomatosis'] = df['STDs:condylomatosis'].fillna(df['STDs:condylomatosis'].median())\n",
    "df['STDs:cervical condylomatosis'] = df['STDs:cervical condylomatosis'].fillna(df['STDs:cervical condylomatosis'].median())\n",
    "df['STDs:vaginal condylomatosis'] = df['STDs:vaginal condylomatosis'].fillna(df['STDs:vaginal condylomatosis'].median())\n",
    "df['STDs:vulvo-perineal condylomatosis'] = df['STDs:vulvo-perineal condylomatosis'].fillna(df['STDs:vulvo-perineal condylomatosis'].median())\n",
    "df['STDs:syphilis'] = df['STDs:syphilis'].fillna(df['STDs:syphilis'].median())\n",
    "df['STDs:pelvic inflammatory disease'] = df['STDs:pelvic inflammatory disease'].fillna(df['STDs:pelvic inflammatory disease'].median())\n",
    "df['STDs:genital herpes'] = df['STDs:genital herpes'].fillna(df['STDs:genital herpes'].median())\n",
    "df['STDs:molluscum contagiosum'] = df['STDs:molluscum contagiosum'].fillna(df['STDs:molluscum contagiosum'].median())\n",
    "df['STDs:AIDS'] = df['STDs:AIDS'].fillna(df['STDs:AIDS'].median())\n",
    "df['STDs:HIV'] = df['STDs:HIV'].fillna(df['STDs:HIV'].median())\n",
    "df['STDs:Hepatitis B'] = df['STDs:Hepatitis B'].fillna(df['STDs:Hepatitis B'].median())\n",
    "df['STDs:HPV'] = df['STDs:HPV'].fillna(df['STDs:HPV'].median())\n",
    "df['STDs: Time since first diagnosis'] = df['STDs: Time since first diagnosis'].fillna(df['STDs: Time since first diagnosis'].median())\n",
    "df['STDs: Time since last diagnosis'] = df['STDs: Time since last diagnosis'].fillna(df['STDs: Time since last diagnosis'].median())"
   ]
  },
  {
   "cell_type": "code",
   "execution_count": 6,
   "metadata": {},
   "outputs": [],
   "source": [
    "df = pd.get_dummies(data=df, columns=['Smokes','Hormonal Contraceptives','IUD','STDs',\n",
    "                                      'Dx:Cancer','Dx:CIN','Dx:HPV','Dx','Hinselmann','Citology','Schiller'])"
   ]
  },
  {
   "cell_type": "code",
   "execution_count": 7,
   "metadata": {},
   "outputs": [],
   "source": [
    "data = df\n",
    "predict = \"Biopsy\""
   ]
  },
  {
   "source": [
    "from imblearn.combine import SMOTETomek\n",
    "print(data)\n",
    "X = data\n",
    "y = data.pop(predict)\n",
    "print(X)\n",
    "print(y)\n",
    "x_train, x_test, y_train, y_test = sklearn.model_selection.train_test_split(X, y, test_size = 0.3, random_state=2019)\n",
    "\n",
    "cc = SMOTETomek(random_state=2019)\n",
    "x_train, y_train = cc.fit_resample(x_train, y_train)"
   ],
   "cell_type": "code",
   "metadata": {},
   "execution_count": 8,
   "outputs": [
    {
     "output_type": "stream",
     "name": "stdout",
     "text": [
      "     Age  Number of sexual partners  First sexual intercourse  \\\n0     18                        4.0                      15.0   \n1     15                        1.0                      14.0   \n2     34                        1.0                      17.0   \n3     52                        5.0                      16.0   \n4     46                        3.0                      21.0   \n..   ...                        ...                       ...   \n853   34                        3.0                      18.0   \n854   32                        2.0                      19.0   \n855   25                        2.0                      17.0   \n856   33                        2.0                      24.0   \n857   29                        2.0                      20.0   \n\n     Num of pregnancies  Smokes (years)  Smokes (packs/year)  \\\n0                   1.0             0.0                  0.0   \n1                   1.0             0.0                  0.0   \n2                   1.0             0.0                  0.0   \n3                   4.0            37.0                 37.0   \n4                   4.0             0.0                  0.0   \n..                  ...             ...                  ...   \n853                 0.0             0.0                  0.0   \n854                 1.0             0.0                  0.0   \n855                 0.0             0.0                  0.0   \n856                 2.0             0.0                  0.0   \n857                 1.0             0.0                  0.0   \n\n     Hormonal Contraceptives (years)  IUD (years)  STDs (number)  \\\n0                               0.00          0.0            0.0   \n1                               0.00          0.0            0.0   \n2                               0.00          0.0            0.0   \n3                               3.00          0.0            0.0   \n4                              15.00          0.0            0.0   \n..                               ...          ...            ...   \n853                             0.00          0.0            0.0   \n854                             8.00          0.0            0.0   \n855                             0.08          0.0            0.0   \n856                             0.08          0.0            0.0   \n857                             0.50          0.0            0.0   \n\n     STDs:condylomatosis  ...  Dx:HPV_0  Dx:HPV_1  Dx_0  Dx_1  Hinselmann_0  \\\n0                    0.0  ...         1         0     1     0             1   \n1                    0.0  ...         1         0     1     0             1   \n2                    0.0  ...         1         0     1     0             1   \n3                    0.0  ...         0         1     1     0             1   \n4                    0.0  ...         1         0     1     0             1   \n..                   ...  ...       ...       ...   ...   ...           ...   \n853                  0.0  ...         1         0     1     0             1   \n854                  0.0  ...         1         0     1     0             1   \n855                  0.0  ...         1         0     1     0             1   \n856                  0.0  ...         1         0     1     0             1   \n857                  0.0  ...         1         0     1     0             1   \n\n     Hinselmann_1  Citology_0  Citology_1  Schiller_0  Schiller_1  \n0               0           1           0           1           0  \n1               0           1           0           1           0  \n2               0           1           0           1           0  \n3               0           1           0           1           0  \n4               0           1           0           1           0  \n..            ...         ...         ...         ...         ...  \n853             0           1           0           1           0  \n854             0           1           0           1           0  \n855             0           0           1           1           0  \n856             0           1           0           1           0  \n857             0           1           0           1           0  \n\n[858 rows x 47 columns]\n     Age  Number of sexual partners  First sexual intercourse  \\\n0     18                        4.0                      15.0   \n1     15                        1.0                      14.0   \n2     34                        1.0                      17.0   \n3     52                        5.0                      16.0   \n4     46                        3.0                      21.0   \n..   ...                        ...                       ...   \n853   34                        3.0                      18.0   \n854   32                        2.0                      19.0   \n855   25                        2.0                      17.0   \n856   33                        2.0                      24.0   \n857   29                        2.0                      20.0   \n\n     Num of pregnancies  Smokes (years)  Smokes (packs/year)  \\\n0                   1.0             0.0                  0.0   \n1                   1.0             0.0                  0.0   \n2                   1.0             0.0                  0.0   \n3                   4.0            37.0                 37.0   \n4                   4.0             0.0                  0.0   \n..                  ...             ...                  ...   \n853                 0.0             0.0                  0.0   \n854                 1.0             0.0                  0.0   \n855                 0.0             0.0                  0.0   \n856                 2.0             0.0                  0.0   \n857                 1.0             0.0                  0.0   \n\n     Hormonal Contraceptives (years)  IUD (years)  STDs (number)  \\\n0                               0.00          0.0            0.0   \n1                               0.00          0.0            0.0   \n2                               0.00          0.0            0.0   \n3                               3.00          0.0            0.0   \n4                              15.00          0.0            0.0   \n..                               ...          ...            ...   \n853                             0.00          0.0            0.0   \n854                             8.00          0.0            0.0   \n855                             0.08          0.0            0.0   \n856                             0.08          0.0            0.0   \n857                             0.50          0.0            0.0   \n\n     STDs:condylomatosis  ...  Dx:HPV_0  Dx:HPV_1  Dx_0  Dx_1  Hinselmann_0  \\\n0                    0.0  ...         1         0     1     0             1   \n1                    0.0  ...         1         0     1     0             1   \n2                    0.0  ...         1         0     1     0             1   \n3                    0.0  ...         0         1     1     0             1   \n4                    0.0  ...         1         0     1     0             1   \n..                   ...  ...       ...       ...   ...   ...           ...   \n853                  0.0  ...         1         0     1     0             1   \n854                  0.0  ...         1         0     1     0             1   \n855                  0.0  ...         1         0     1     0             1   \n856                  0.0  ...         1         0     1     0             1   \n857                  0.0  ...         1         0     1     0             1   \n\n     Hinselmann_1  Citology_0  Citology_1  Schiller_0  Schiller_1  \n0               0           1           0           1           0  \n1               0           1           0           1           0  \n2               0           1           0           1           0  \n3               0           1           0           1           0  \n4               0           1           0           1           0  \n..            ...         ...         ...         ...         ...  \n853             0           1           0           1           0  \n854             0           1           0           1           0  \n855             0           0           1           1           0  \n856             0           1           0           1           0  \n857             0           1           0           1           0  \n\n[858 rows x 46 columns]\n0      0\n1      0\n2      0\n3      0\n4      0\n      ..\n853    0\n854    0\n855    0\n856    0\n857    0\nName: Biopsy, Length: 858, dtype: int64\n"
     ]
    }
   ]
  },
  {
   "cell_type": "code",
   "execution_count": 9,
   "metadata": {},
   "outputs": [
    {
     "output_type": "stream",
     "name": "stdout",
     "text": [
      "0.9534883720930233\n",
      "C:\\Python38\\lib\\site-packages\\sklearn\\neural_network\\_multilayer_perceptron.py:614: ConvergenceWarning: Stochastic Optimizer: Maximum iterations (200) reached and the optimization hasn't converged yet.\n",
      "  warnings.warn(\n"
     ]
    }
   ],
   "source": [
    "from sklearn.neural_network import MLPClassifier\n",
    "model = MLPClassifier(random_state=1).fit(x_train, y_train)\n",
    "score = model.score(x_test, y_test)\n",
    "print(score)"
   ]
  },
  {
   "cell_type": "code",
   "execution_count": 10,
   "metadata": {},
   "outputs": [
    {
     "output_type": "execute_result",
     "data": {
      "text/plain": [
       "0.8"
      ]
     },
     "metadata": {},
     "execution_count": 10
    }
   ],
   "source": [
    "from sklearn.metrics import recall_score\n",
    "from sklearn.metrics import f1_score\n",
    "\n",
    "recall_score(y_test, model.predict(x_test))"
   ]
  },
  {
   "source": [
    "import joblib\n",
    "joblib.dump(value=model, filename=\"model.pkl\")"
   ],
   "cell_type": "code",
   "metadata": {},
   "execution_count": 11,
   "outputs": [
    {
     "output_type": "execute_result",
     "data": {
      "text/plain": [
       "['model.pkl']"
      ]
     },
     "metadata": {},
     "execution_count": 11
    }
   ]
  },
  {
   "source": [
    "joblib.dump(value=x_test, filename=\"x_test.pkl\")\n",
    "joblib.dump(value=y_test, filename=\"y_test.pkl\")\n",
    "joblib.dump(value=x_train, filename=\"x_train.pkl\")\n",
    "joblib.dump(value=y_train, filename=\"y_train.pkl\")"
   ],
   "cell_type": "code",
   "metadata": {},
   "execution_count": 12,
   "outputs": [
    {
     "output_type": "execute_result",
     "data": {
      "text/plain": [
       "['y_train.pkl']"
      ]
     },
     "metadata": {},
     "execution_count": 12
    }
   ]
  },
  {
   "cell_type": "code",
   "execution_count": null,
   "metadata": {},
   "outputs": [],
   "source": []
  }
 ]
}